{
  "nbformat": 4,
  "nbformat_minor": 0,
  "metadata": {
    "colab": {
      "provenance": []
    },
    "kernelspec": {
      "name": "python3",
      "display_name": "Python 3"
    },
    "language_info": {
      "name": "python"
    }
  },
  "cells": [
    {
      "cell_type": "code",
      "source": [
        "!pip install gradio\n",
        "!pip install gtts"
      ],
      "metadata": {
        "id": "3GM8bnj8Rg1C"
      },
      "execution_count": null,
      "outputs": []
    },
    {
      "cell_type": "code",
      "source": [
        "import gradio as gr\n",
        "from gtts import gTTS\n",
        "import os\n",
        "import re\n",
        "\n",
        "def preprocess_text(text):\n",
        "    # Remove special symbols like > and others that shouldn't be read aloud\n",
        "    text = re.sub(r'[<>]', '', text)\n",
        "\n",
        "    # Replace slide indicators like 'Slide 0:' with a short pause effect\n",
        "    text = re.sub(r'Slide \\d+:', '...', text)\n",
        "\n",
        "    return text\n",
        "\n",
        "def text_to_speech(text):\n",
        "    processed_text = preprocess_text(text)\n",
        "\n",
        "    # Generate English speech from processed text\n",
        "    tts = gTTS(text=processed_text, lang=\"en\")\n",
        "    file_path = \"output_audio.mp3\"\n",
        "\n",
        "    # Save the audio file\n",
        "    tts.save(file_path)\n",
        "\n",
        "    return file_path, file_path\n",
        "\n",
        "# Define Gradio interface\n",
        "iface = gr.Interface(\n",
        "    fn=text_to_speech,\n",
        "    inputs=gr.Textbox(label=\"Enter English text\"),\n",
        "    outputs=[gr.Audio(label=\"Generated Speech\"), gr.File(label=\"Download MP3\")],\n",
        "    title=\"Text-to-Speech Converter (English)\",\n",
        "    description=\"Enter English text and convert it to speech using Google TTS. Download the generated MP3 file. Special symbols will be skipped, and slide numbers will be replaced with a short pause.\"\n",
        ")\n",
        "\n",
        "# Launch the interface\n",
        "iface.launch()\n"
      ],
      "metadata": {
        "id": "XRSYSKLWTF5m"
      },
      "execution_count": null,
      "outputs": []
    }
  ]
}